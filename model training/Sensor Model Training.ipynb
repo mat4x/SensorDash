{
 "cells": [
  {
   "cell_type": "code",
   "execution_count": 1,
   "id": "5481f6c4-7a96-4f0f-92e6-7c22580b9ce9",
   "metadata": {},
   "outputs": [],
   "source": [
    "import warnings\n",
    "warnings.filterwarnings('ignore')"
   ]
  },
  {
   "cell_type": "markdown",
   "id": "66fdd797-332e-43f2-8b31-6843b049734c",
   "metadata": {},
   "source": [
    "### Preprocessing the Data"
   ]
  },
  {
   "cell_type": "code",
   "execution_count": 2,
   "id": "0c76570d-3177-4732-af78-9b8ee660401e",
   "metadata": {},
   "outputs": [],
   "source": [
    "import pandas as pd\n",
    "import numpy as np"
   ]
  },
  {
   "cell_type": "code",
   "execution_count": 3,
   "id": "27e721ca-ed56-4fea-b3c3-e4e60ff81f9d",
   "metadata": {},
   "outputs": [
    {
     "data": {
      "text/html": [
       "<div>\n",
       "<style scoped>\n",
       "    .dataframe tbody tr th:only-of-type {\n",
       "        vertical-align: middle;\n",
       "    }\n",
       "\n",
       "    .dataframe tbody tr th {\n",
       "        vertical-align: top;\n",
       "    }\n",
       "\n",
       "    .dataframe thead th {\n",
       "        text-align: right;\n",
       "    }\n",
       "</style>\n",
       "<table border=\"1\" class=\"dataframe\">\n",
       "  <thead>\n",
       "    <tr style=\"text-align: right;\">\n",
       "      <th></th>\n",
       "      <th>z</th>\n",
       "      <th>x</th>\n",
       "      <th>action</th>\n",
       "    </tr>\n",
       "  </thead>\n",
       "  <tbody>\n",
       "    <tr>\n",
       "      <th>0</th>\n",
       "      <td>0.812164</td>\n",
       "      <td>-0.129181</td>\n",
       "      <td>UP</td>\n",
       "    </tr>\n",
       "    <tr>\n",
       "      <th>1</th>\n",
       "      <td>4.994400</td>\n",
       "      <td>0.672974</td>\n",
       "      <td>UP</td>\n",
       "    </tr>\n",
       "    <tr>\n",
       "      <th>2</th>\n",
       "      <td>8.246658</td>\n",
       "      <td>-0.271927</td>\n",
       "      <td>UP</td>\n",
       "    </tr>\n",
       "    <tr>\n",
       "      <th>3</th>\n",
       "      <td>2.440964</td>\n",
       "      <td>-0.862076</td>\n",
       "      <td>UP</td>\n",
       "    </tr>\n",
       "    <tr>\n",
       "      <th>4</th>\n",
       "      <td>2.847885</td>\n",
       "      <td>-0.505219</td>\n",
       "      <td>UP</td>\n",
       "    </tr>\n",
       "  </tbody>\n",
       "</table>\n",
       "</div>"
      ],
      "text/plain": [
       "          z         x action\n",
       "0  0.812164 -0.129181     UP\n",
       "1  4.994400  0.672974     UP\n",
       "2  8.246658 -0.271927     UP\n",
       "3  2.440964 -0.862076     UP\n",
       "4  2.847885 -0.505219     UP"
      ]
     },
     "execution_count": 3,
     "metadata": {},
     "output_type": "execute_result"
    }
   ],
   "source": [
    "data = pd.read_csv(\"train_data.csv\", names=(\"z\", \"x\", \"action\"))\n",
    "data.head()"
   ]
  },
  {
   "cell_type": "code",
   "execution_count": 4,
   "id": "00925599-7ee9-4cd6-a85b-e8123d2553d6",
   "metadata": {},
   "outputs": [],
   "source": [
    "horizontal_data = data[ data.action.isin((\"LEFT\", \"RIGHT\", \"STILL\")) ].replace({\"action\" : {\"LEFT\": -1, \"STILL\": 0, \"RIGHT\": 1}})\n",
    "vertical_data   = data[ data.action.isin((\"UP\",   \"DOWN\",  \"STILL\")) ].replace({\"action\" : {\"DOWN\": -1, \"STILL\": 0, \"UP\": 1}})"
   ]
  },
  {
   "cell_type": "markdown",
   "id": "331e4704-1daf-4e03-ac8a-fae0a53d5895",
   "metadata": {},
   "source": [
    "### Training the Model"
   ]
  },
  {
   "cell_type": "code",
   "execution_count": 5,
   "id": "e7b11d5a-8ecc-4bda-b4ed-e16a648d848f",
   "metadata": {},
   "outputs": [],
   "source": [
    "from sklearn.linear_model import LogisticRegression"
   ]
  },
  {
   "cell_type": "code",
   "execution_count": 6,
   "id": "1a9f7ff2-366c-4747-bc2b-1138d52d89cb",
   "metadata": {},
   "outputs": [],
   "source": [
    "model_v = LogisticRegression(multi_class='multinomial', solver='lbfgs')\n",
    "model_h = LogisticRegression(multi_class='multinomial', solver='lbfgs')"
   ]
  },
  {
   "cell_type": "code",
   "execution_count": 7,
   "id": "38feab0d-242a-4c20-9db3-b7a2fea2c3de",
   "metadata": {},
   "outputs": [
    {
     "data": {
      "text/html": [
       "<style>#sk-container-id-1 {color: black;}#sk-container-id-1 pre{padding: 0;}#sk-container-id-1 div.sk-toggleable {background-color: white;}#sk-container-id-1 label.sk-toggleable__label {cursor: pointer;display: block;width: 100%;margin-bottom: 0;padding: 0.3em;box-sizing: border-box;text-align: center;}#sk-container-id-1 label.sk-toggleable__label-arrow:before {content: \"▸\";float: left;margin-right: 0.25em;color: #696969;}#sk-container-id-1 label.sk-toggleable__label-arrow:hover:before {color: black;}#sk-container-id-1 div.sk-estimator:hover label.sk-toggleable__label-arrow:before {color: black;}#sk-container-id-1 div.sk-toggleable__content {max-height: 0;max-width: 0;overflow: hidden;text-align: left;background-color: #f0f8ff;}#sk-container-id-1 div.sk-toggleable__content pre {margin: 0.2em;color: black;border-radius: 0.25em;background-color: #f0f8ff;}#sk-container-id-1 input.sk-toggleable__control:checked~div.sk-toggleable__content {max-height: 200px;max-width: 100%;overflow: auto;}#sk-container-id-1 input.sk-toggleable__control:checked~label.sk-toggleable__label-arrow:before {content: \"▾\";}#sk-container-id-1 div.sk-estimator input.sk-toggleable__control:checked~label.sk-toggleable__label {background-color: #d4ebff;}#sk-container-id-1 div.sk-label input.sk-toggleable__control:checked~label.sk-toggleable__label {background-color: #d4ebff;}#sk-container-id-1 input.sk-hidden--visually {border: 0;clip: rect(1px 1px 1px 1px);clip: rect(1px, 1px, 1px, 1px);height: 1px;margin: -1px;overflow: hidden;padding: 0;position: absolute;width: 1px;}#sk-container-id-1 div.sk-estimator {font-family: monospace;background-color: #f0f8ff;border: 1px dotted black;border-radius: 0.25em;box-sizing: border-box;margin-bottom: 0.5em;}#sk-container-id-1 div.sk-estimator:hover {background-color: #d4ebff;}#sk-container-id-1 div.sk-parallel-item::after {content: \"\";width: 100%;border-bottom: 1px solid gray;flex-grow: 1;}#sk-container-id-1 div.sk-label:hover label.sk-toggleable__label {background-color: #d4ebff;}#sk-container-id-1 div.sk-serial::before {content: \"\";position: absolute;border-left: 1px solid gray;box-sizing: border-box;top: 0;bottom: 0;left: 50%;z-index: 0;}#sk-container-id-1 div.sk-serial {display: flex;flex-direction: column;align-items: center;background-color: white;padding-right: 0.2em;padding-left: 0.2em;position: relative;}#sk-container-id-1 div.sk-item {position: relative;z-index: 1;}#sk-container-id-1 div.sk-parallel {display: flex;align-items: stretch;justify-content: center;background-color: white;position: relative;}#sk-container-id-1 div.sk-item::before, #sk-container-id-1 div.sk-parallel-item::before {content: \"\";position: absolute;border-left: 1px solid gray;box-sizing: border-box;top: 0;bottom: 0;left: 50%;z-index: -1;}#sk-container-id-1 div.sk-parallel-item {display: flex;flex-direction: column;z-index: 1;position: relative;background-color: white;}#sk-container-id-1 div.sk-parallel-item:first-child::after {align-self: flex-end;width: 50%;}#sk-container-id-1 div.sk-parallel-item:last-child::after {align-self: flex-start;width: 50%;}#sk-container-id-1 div.sk-parallel-item:only-child::after {width: 0;}#sk-container-id-1 div.sk-dashed-wrapped {border: 1px dashed gray;margin: 0 0.4em 0.5em 0.4em;box-sizing: border-box;padding-bottom: 0.4em;background-color: white;}#sk-container-id-1 div.sk-label label {font-family: monospace;font-weight: bold;display: inline-block;line-height: 1.2em;}#sk-container-id-1 div.sk-label-container {text-align: center;}#sk-container-id-1 div.sk-container {/* jupyter's `normalize.less` sets `[hidden] { display: none; }` but bootstrap.min.css set `[hidden] { display: none !important; }` so we also need the `!important` here to be able to override the default hidden behavior on the sphinx rendered scikit-learn.org. See: https://github.com/scikit-learn/scikit-learn/issues/21755 */display: inline-block !important;position: relative;}#sk-container-id-1 div.sk-text-repr-fallback {display: none;}</style><div id=\"sk-container-id-1\" class=\"sk-top-container\"><div class=\"sk-text-repr-fallback\"><pre>LogisticRegression(multi_class=&#x27;multinomial&#x27;)</pre><b>In a Jupyter environment, please rerun this cell to show the HTML representation or trust the notebook. <br />On GitHub, the HTML representation is unable to render, please try loading this page with nbviewer.org.</b></div><div class=\"sk-container\" hidden><div class=\"sk-item\"><div class=\"sk-estimator sk-toggleable\"><input class=\"sk-toggleable__control sk-hidden--visually\" id=\"sk-estimator-id-1\" type=\"checkbox\" checked><label for=\"sk-estimator-id-1\" class=\"sk-toggleable__label sk-toggleable__label-arrow\">LogisticRegression</label><div class=\"sk-toggleable__content\"><pre>LogisticRegression(multi_class=&#x27;multinomial&#x27;)</pre></div></div></div></div></div>"
      ],
      "text/plain": [
       "LogisticRegression(multi_class='multinomial')"
      ]
     },
     "execution_count": 7,
     "metadata": {},
     "output_type": "execute_result"
    }
   ],
   "source": [
    "model_h.fit(horizontal_data[[\"x\"]], horizontal_data[\"action\"])\n",
    "model_v.fit(vertical_data[[\"z\"]],   vertical_data[\"action\"])"
   ]
  },
  {
   "cell_type": "markdown",
   "id": "92839da5-5465-4e80-86f1-043caf79b35b",
   "metadata": {},
   "source": [
    "### Testing"
   ]
  },
  {
   "cell_type": "code",
   "execution_count": 8,
   "id": "fd30a024-22e7-417f-a24e-460770bf798b",
   "metadata": {},
   "outputs": [],
   "source": [
    "mapping_h = {-1: \"LEFT\", 0: \"STILL\", 1: \"RIGHT\"}\n",
    "mapping_v = {-1: \"DOWN\", 0: \"STILL\", 1: \"UP\"}\n",
    "\n",
    "def predictor(data):\n",
    "    x = model_h.predict( [[data[1]]] )[0]\n",
    "    z = model_v.predict( [[data[0]]] )[0]\n",
    "    print(\"HORIZONTAL MOVEMENT :\", mapping_h[ x ])\n",
    "    print(\"VERTICAL MOVEMENT   :\", mapping_v[ z ])"
   ]
  },
  {
   "cell_type": "code",
   "execution_count": 9,
   "id": "5cb10f6c-7268-480c-9f71-b8b27acafd0c",
   "metadata": {},
   "outputs": [
    {
     "name": "stdout",
     "output_type": "stream",
     "text": [
      "HORIZONTAL MOVEMENT : RIGHT\n",
      "VERTICAL MOVEMENT   : STILL\n"
     ]
    }
   ],
   "source": [
    "SAMPLE = [-.379745483, -5.199996948]  # RIGHT\n",
    "predictor(SAMPLE)"
   ]
  },
  {
   "cell_type": "markdown",
   "id": "42194a81-c179-4e86-9dc0-52d992650912",
   "metadata": {},
   "source": [
    "### Visualization"
   ]
  },
  {
   "cell_type": "code",
   "execution_count": 10,
   "id": "2ec5b06d-ae8f-48ed-9b07-19a79c1822b0",
   "metadata": {},
   "outputs": [],
   "source": [
    "import matplotlib.pyplot as plt"
   ]
  },
  {
   "cell_type": "code",
   "execution_count": 11,
   "id": "35aeb4a6-65de-423e-995d-58357e830906",
   "metadata": {},
   "outputs": [],
   "source": [
    "# sample data range\n",
    "x  = pd.DataFrame( np.linspace(-8,8,100) )\n",
    "y1 = model_h.predict( x )\n",
    "y2 = model_v.predict( x )"
   ]
  },
  {
   "cell_type": "code",
   "execution_count": 12,
   "id": "8d368f60-e37a-4475-85c3-03411fe72b19",
   "metadata": {},
   "outputs": [
    {
     "data": {
      "image/png": "[encoded data removed]",
      "text/plain": [
       "<Figure size 800x300 with 2 Axes>"
      ]
     },
     "metadata": {},
     "output_type": "display_data"
    }
   ],
   "source": [
    "f, (ax1, ax2) = plt.subplots(1, 2, sharey=True, figsize=(8,3))\n",
    "\n",
    "ax1.plot(x, y1, label=\"Horizontal\", color=\"orange\")\n",
    "ax1.set_title(\"Horizontal\")\n",
    "\n",
    "ax2.plot(x, y2, label=\"Vertical\")\n",
    "ax2.set_title(\"Vertical\")\n",
    "\n",
    "f.show()"
   ]
  },
  {
   "cell_type": "markdown",
   "id": "cb4187c3-1575-4208-8c18-1b059c7bf4b7",
   "metadata": {},
   "source": [
    "### Saving the model"
   ]
  },
  {
   "cell_type": "code",
   "execution_count": 13,
   "id": "70f155d6-978b-4c39-bc58-a530128debe8",
   "metadata": {},
   "outputs": [],
   "source": [
    "import pickle"
   ]
  },
  {
   "cell_type": "code",
   "execution_count": 14,
   "id": "b59a0995-05da-4b58-843d-d74019000a9c",
   "metadata": {},
   "outputs": [
    {
     "name": "stdout",
     "output_type": "stream",
     "text": [
      "LogisticRegression(multi_class='multinomial')\n",
      "LogisticRegression(multi_class='multinomial')\n"
     ]
    }
   ],
   "source": [
    "print( model_h )\n",
    "print( model_v )\n",
    "\n",
    "with open (\"model_v.pkl\", 'wb') as file:\n",
    "    file.write( pickle.dumps(model_v) )\n",
    "\n",
    "with open (\"model_h.pkl\", 'wb') as file:\n",
    "    file.write( pickle.dumps(model_h) )"
   ]
  },
  {
   "cell_type": "code",
   "execution_count": 15,
   "id": "ffa0a771-9ce9-4d2e-98e7-1daf8c238c6f",
   "metadata": {},
   "outputs": [
    {
     "name": "stdout",
     "output_type": "stream",
     "text": [
      "LogisticRegression(multi_class='multinomial')\n",
      "LogisticRegression(multi_class='multinomial')\n"
     ]
    }
   ],
   "source": [
    "# loading saved models\n",
    "\n",
    "with open (\"model_v.pkl\", 'rb') as file:\n",
    "    m1 = pickle.loads( file.read() )\n",
    "\n",
    "with open (\"model_h.pkl\", 'rb') as file:\n",
    "    m2 = pickle.loads( file.read() )\n",
    "\n",
    "print( m1 )\n",
    "print( m2 )"
   ]
  },
  {
   "cell_type": "code",
   "execution_count": null,
   "id": "2248d375-631e-42b1-8a05-b6b49afaa292",
   "metadata": {},
   "outputs": [],
   "source": []
  }
 ],
 "metadata": {
  "kernelspec": {
   "display_name": "Python 3 (ipykernel)",
   "language": "python",
   "name": "python3"
  },
  "language_info": {
   "codemirror_mode": {
    "name": "ipython",
    "version": 3
   },
   "file_extension": ".py",
   "mimetype": "text/x-python",
   "name": "python",
   "nbconvert_exporter": "python",
   "pygments_lexer": "ipython3",
   "version": "3.9.1"
  }
 },
 "nbformat": 4,
 "nbformat_minor": 5
}
